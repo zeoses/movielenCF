{
  "nbformat": 4,
  "nbformat_minor": 0,
  "metadata": {
    "colab": {
      "name": "CFRS",
      "version": "0.3.2",
      "provenance": [],
      "include_colab_link": true
    },
    "kernelspec": {
      "name": "python3",
      "display_name": "Python 3"
    }
  },
  "cells": [
    {
      "cell_type": "markdown",
      "metadata": {
        "id": "view-in-github",
        "colab_type": "text"
      },
      "source": [
        "<a href=\"https://colab.research.google.com/github/zeoses/movielenCF/blob/master/CFRS.ipynb\" target=\"_parent\"><img src=\"https://colab.research.google.com/assets/colab-badge.svg\" alt=\"Open In Colab\"/></a>"
      ]
    },
    {
      "cell_type": "code",
      "metadata": {
        "id": "1qFiecTrKKnS",
        "colab_type": "code",
        "colab": {}
      },
      "source": [
        "import pandas as pd\n",
        "import numpy as np\n",
        "from google.colab import drive\n",
        "drive.mount('/content/gdrive')\n",
        "from sklearn.cluster import KMeans\n",
        "import math\n",
        "from tqdm import tqdm "
      ],
      "execution_count": 0,
      "outputs": []
    },
    {
      "cell_type": "code",
      "metadata": {
        "id": "EhqE66F0KcHE",
        "colab_type": "code",
        "colab": {}
      },
      "source": [
        "# Read data with header None\n",
        "data = pd.read_csv('/content/gdrive//My Drive/Colab Notebooks/u.data',delimiter='\\t',header=None)\n",
        "ClusterCount=3\n",
        "RatioTrain2Test=0.8"
      ],
      "execution_count": 0,
      "outputs": []
    },
    {
      "cell_type": "code",
      "metadata": {
        "id": "dMhvEGZjLEhq",
        "colab_type": "code",
        "colab": {}
      },
      "source": [
        "# Create User_item Matrix\n",
        "userSize=max(data[0][:])\n",
        "itemSize=max(data[1][:])\n",
        "\n",
        "userItemMatrix=np.zeros((userSize,itemSize))\n",
        "\n",
        "re=(data[1][:].size)\n",
        "for i in range(0,re):\n",
        "    userItemMatrix[(data[0][i])-1][(data[1][i])-1]=int(data[2][i]);\n",
        "    \n",
        "#np.savetxt(\"D:\\\\foo.csv\", userItemMatrix, delimiter=\"\\t\")\n"
      ],
      "execution_count": 0,
      "outputs": []
    },
    {
      "cell_type": "code",
      "metadata": {
        "id": "AYPidTqxKiQL",
        "colab_type": "code",
        "colab": {}
      },
      "source": [
        "# Split Data to Train and Test\n",
        "trainSize =int(np.floor(userSize * RatioTrain2Test));\n",
        "testSize = int(userSize-trainSize);\n",
        "\n",
        "trainValue=[];\n",
        "testValue=[];\n",
        "\n",
        "\n",
        "trainValue = userItemMatrix[testSize:,:]\n",
        "testValue = userItemMatrix[:testSize,:];\n",
        "\n",
        "\n",
        "\n",
        "trainValue=np.array(trainValue)\n",
        "testValue=np.array(testValue)  "
      ],
      "execution_count": 0,
      "outputs": []
    },
    {
      "cell_type": "code",
      "metadata": {
        "id": "FTqFbTGVhpe7",
        "colab_type": "code",
        "colab": {}
      },
      "source": [
        "# Clustring Data For Kmeans Alghoritm\n",
        "\n",
        "kmeans = KMeans(n_clusters=ClusterCount)\n",
        "kmeans.fit(trainValue)\n",
        "resultOfKmeans=kmeans.labels_\n",
        "centerOfKmeansResult=kmeans.cluster_centers_\n",
        "\n",
        "# Predict For TestData\n",
        "prdct = kmeans.predict(testValue)\n"
      ],
      "execution_count": 0,
      "outputs": []
    },
    {
      "cell_type": "code",
      "metadata": {
        "id": "FH52PphdKo9N",
        "colab_type": "code",
        "colab": {}
      },
      "source": [
        " \n",
        "#avarege Parameters \n",
        "ATP=0.0;\n",
        "ATN=0.0;\n",
        "AFP=0.0;\n",
        "AFN=0.0;\n",
        "\n",
        "#person Parameters\n",
        "PTP=0.0;\n",
        "PTN=0.0;\n",
        "PFP=0.0;\n",
        "PFN=0.0;\n",
        "\n",
        "\n",
        "# compute similarity\n",
        "for i in tqdm(range(testSize)):\n",
        "  \n",
        "  \n",
        "    ClusterNumber=prdct[i];\n",
        "    ClusterMember=trainValue[resultOfKmeans==ClusterNumber,]\n",
        "    similarity1=np.zeros(ClusterMember.shape[0])\n",
        "    aveForTestItem=np.average(testValue[i,testValue[i]>0]);\n",
        "    \n",
        "#     Find  Pearson similarity\n",
        "    for j in range(ClusterMember.shape[0]):\n",
        "        aveForMember=np.average(ClusterMember[j,ClusterMember[j]>0]);\n",
        "        sumOfNumerator=0\n",
        "        Denominator1=0\n",
        "        Denominator=0\n",
        "        Denominator2=0\n",
        "        for u in range(trainValue.shape[1]):\n",
        "           if ClusterMember[j,u]>0 and testValue[i,u]>0:\n",
        "                sumOfNumerator=sumOfNumerator+((ClusterMember[j,u]-aveForMember)*(testValue[i,u]-aveForTestItem));\n",
        "                Denominator1=Denominator1+((ClusterMember[j,u]-aveForMember)**2)\n",
        "                Denominator2=Denominator2+((testValue[i,u]-aveForTestItem)**2)\n",
        "\n",
        "        Denominator=(math.sqrt(Denominator1))*(math.sqrt(Denominator2))\n",
        "        if(Denominator!=0):\n",
        "            sim=sumOfNumerator/Denominator\n",
        "        else:\n",
        "            sim=0\n",
        "\n",
        "        similarity1[j]=sim\n",
        "\n",
        "    \n",
        "    # Rate Predict \n",
        "    pridictAverage=np.zeros(trainValue.shape[1])     \n",
        "    pridictPearson=np.zeros(trainValue.shape[1])\n",
        "\n",
        "    for ll in range(ClusterMember.shape[1]):\n",
        "        numeratorPrdicPearson=0\n",
        "        denominatorPrdicPearson=0\n",
        "        for l in range(ClusterMember.shape[0]):\n",
        "            if ClusterMember[l,ll]>0 and similarity1[l]>0: \n",
        "              numeratorPrdicPearson=numeratorPrdicPearson+(similarity1[l]*(ClusterMember[l,ll]-np.average(ClusterMember[l,ClusterMember[l]>0])))\n",
        "              denominatorPrdicPearson=denominatorPrdicPearson+similarity1[l];\n",
        "        if denominatorPrdicPearson>0:\n",
        "          pridictPearson[ll]=(aveForTestItem+(numeratorPrdicPearson/denominatorPrdicPearson))\n",
        "        else:\n",
        "          pridictPearson[ll]=0\n",
        "\n",
        "        pridictAverage[ll]=(np.average(ClusterMember[ClusterMember[:,ll]>0,ll]))\n",
        "        #pridictAverage[ll]=(np.average(trainValue[trainValue[:,ll]>0,ll]))\n",
        "        if np.isnan(pridictAverage[ll]):\n",
        "          pridictAverage[ll]=0\n",
        "\n",
        "        TargetRate=testValue[i,ll]\n",
        "        PredictRateAVE=pridictAverage[ll]\n",
        "        PredictRatePear=pridictPearson[ll]\n",
        "\n",
        "        if TargetRate !=0 and PredictRatePear !=0:\n",
        "          if TargetRate == 5 and PredictRatePear >= 4.5:\n",
        "            PTP = PTP + 1\n",
        "          elif  TargetRate < 5 and PredictRatePear >= 4.5:\n",
        "            PFP = PFP + 1\n",
        "          elif  TargetRate == 5 and PredictRatePear < 4.5:\n",
        "            PFN = PFN + 1\n",
        "          elif  TargetRate < 5 and PredictRatePear < 4.5:\n",
        "            PTN = PTN + 1\n",
        "\n",
        "\n",
        "        if TargetRate !=0 and PredictRateAVE !=0:\n",
        "          if TargetRate == 5 and PredictRateAVE >= 4.5:\n",
        "            ATP = ATP + 1;\n",
        "          elif  TargetRate < 5 and PredictRateAVE >= 4.5:\n",
        "            AFP = AFP + 1;\n",
        "          elif  TargetRate == 5 and PredictRateAVE < 4.5:\n",
        "            AFN = AFN + 1;\n",
        "          elif  TargetRate < 5 and PredictRateAVE < 4.5:\n",
        "            ATN = ATN + 1\n",
        "\n",
        "      \n",
        "AT = ATP + AFP + ATN + AFN\n",
        "PT = PTP + PFP + PTN + PFN\n",
        "#Compute value for accuracy and precision and recall \n",
        "\n",
        "Accuracy = ((ATP + ATN) / AT)*100; \n",
        "Precision = (ATP / (ATP + AFP))*100;\n",
        "Recall = (ATP/(ATP+AFN))*100; \n",
        "\n",
        "PAccuracy1 = ((PTP + PTN) / PT)*100;\n",
        "PPrecision1 = (PTP / (PTP + PFP))*100;\n",
        "PRecall1 = (PTP/(PTP+PFN))*100;\n",
        "AverageResult=[Accuracy,Precision,Recall]\n",
        "pearsonResult=[PAccuracy1,PPrecision1,PRecall1]\n",
        "print(AverageResult)\n",
        "print(pearsonResult)\n",
        "      \n",
        "      "
      ],
      "execution_count": 0,
      "outputs": []
    },
    {
      "cell_type": "code",
      "metadata": {
        "id": "XpjrBecJLeP_",
        "colab_type": "code",
        "colab": {}
      },
      "source": [
        "       \n",
        "\n",
        "print(\"Accuracy\",np.average(AverageResult[0]),\"Precision\",np.average(AverageResult[1]),\"Recall\",np.average(AverageResult[2]),sep=\" \",end=\"\\n\")\n",
        "print(\"PAccuracy1\",np.average(pearsonResult[0]),\"PPrecision1\",np.average(pearsonResult[1]),\"PRecall1\",np.average(pearsonResult[2]),sep=\" \",end=\"\\n\")"
      ],
      "execution_count": 0,
      "outputs": []
    }
  ]
}